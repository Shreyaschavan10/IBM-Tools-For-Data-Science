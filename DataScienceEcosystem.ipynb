{
 "cells": [
  {
   "cell_type": "markdown",
   "id": "da9cc22e",
   "metadata": {},
   "source": [
    "# Data Science Tools and Ecosystem"
   ]
  },
  {
   "cell_type": "markdown",
   "id": "95ea2680",
   "metadata": {},
   "source": [
    "Exercise 3 Mark down cell for an introduction"
   ]
  },
  {
   "cell_type": "markdown",
   "id": "2e78baa6",
   "metadata": {},
   "source": [
    "In this notebook, Data science Tools and Ecosytem are summarized"
   ]
  },
  {
   "cell_type": "markdown",
   "id": "5fb7a964",
   "metadata": {},
   "source": [
    "Exercise 4 - Create a markdown cell to list data science languages "
   ]
  },
  {
   "cell_type": "markdown",
   "id": "6acdea71",
   "metadata": {},
   "source": [
    "Some Popular languages that Data Scientists use are :\n",
    "   1. Python\n",
    "   2. Sql\n",
    "   3. R"
   ]
  },
  {
   "cell_type": "markdown",
   "id": "be31b34a",
   "metadata": {},
   "source": [
    "Exercise 5  - Create a markdown cell to list data science libraries"
   ]
  },
  {
   "cell_type": "markdown",
   "id": "cec2856d",
   "metadata": {},
   "source": [
    "Some of the commonly used libraries used by data scientist include :\n",
    "    \n",
    "    1. Pandas\n",
    "    2. Numpy\n",
    "    3. Matplotlib\n",
    "    4. ggplot\n",
    "    5. Tensorflow"
   ]
  },
  {
   "cell_type": "markdown",
   "id": "3c0af7cf",
   "metadata": {},
   "source": [
    "Exercise 6 - Markdown Cell with table of Data science tools "
   ]
  },
  {
   "cell_type": "markdown",
   "id": "ce7af870",
   "metadata": {},
   "source": [
    "| Data Science Tools       |\n",
    "|--------------------------|\n",
    "| Jupyter Notebook          |\n",
    "| RStudio                   |\n",
    "| VS Code                   |\n",
    "\n"
   ]
  },
  {
   "cell_type": "markdown",
   "id": "cd54a4e6",
   "metadata": {},
   "source": [
    "exercise 7 markdown cell introducing arithmetic expression examples"
   ]
  },
  {
   "cell_type": "markdown",
   "id": "2afc92ba",
   "metadata": {},
   "source": [
    "### Below are a few examples of evaluating arithmatic expressions in Python "
   ]
  },
  {
   "cell_type": "markdown",
   "id": "9d772a48",
   "metadata": {},
   "source": [
    "exercise 8 - create a code cell to multipy and add numbers "
   ]
  },
  {
   "cell_type": "code",
   "execution_count": 8,
   "id": "f6a0140f",
   "metadata": {},
   "outputs": [
    {
     "data": {
      "text/plain": [
       "17"
      ]
     },
     "execution_count": 8,
     "metadata": {},
     "output_type": "execute_result"
    }
   ],
   "source": [
    "# This is a simple arithmetic expression to multiply then add integers.\n",
    "result = (3 * 4) + 5\n",
    "result\n"
   ]
  },
  {
   "cell_type": "markdown",
   "id": "d850887a",
   "metadata": {},
   "source": [
    "Exercise 9  -Create a code cell to convert minutes to hours "
   ]
  },
  {
   "cell_type": "code",
   "execution_count": 9,
   "id": "f682dcc0",
   "metadata": {},
   "outputs": [
    {
     "data": {
      "text/plain": [
       "3.3333333333333335"
      ]
     },
     "execution_count": 9,
     "metadata": {},
     "output_type": "execute_result"
    }
   ],
   "source": [
    "# This will convert 200 minutes to hours by dividing by 60.\n",
    "minutes = 200\n",
    "hours = minutes / 60\n",
    "hours\n"
   ]
  },
  {
   "cell_type": "markdown",
   "id": "7507e5a8",
   "metadata": {},
   "source": [
    "exercise 10 - Insert markdown cell to list objectives"
   ]
  },
  {
   "cell_type": "markdown",
   "id": "755c7309",
   "metadata": {},
   "source": [
    "**Objectives:**\n",
    "\n",
    "- List of popular languages for Data Science.\n",
    "- Python\n",
    "- R\n",
    "- SQL\n",
    "\n",
    "- Identify key libraries in data sceince\n",
    "- evaluate arithmatic expression "
   ]
  },
  {
   "cell_type": "markdown",
   "id": "4121f737",
   "metadata": {},
   "source": [
    "excercise - 11 create a markdown cell to in dicate the author;s name"
   ]
  },
  {
   "cell_type": "markdown",
   "id": "3bd8a7f1",
   "metadata": {},
   "source": [
    "## Author\n",
    "Shreyas Chavan\n"
   ]
  }
 ],
 "metadata": {
  "kernelspec": {
   "display_name": "Python 3 (ipykernel)",
   "language": "python",
   "name": "python3"
  },
  "language_info": {
   "codemirror_mode": {
    "name": "ipython",
    "version": 3
   },
   "file_extension": ".py",
   "mimetype": "text/x-python",
   "name": "python",
   "nbconvert_exporter": "python",
   "pygments_lexer": "ipython3",
   "version": "3.9.7"
  }
 },
 "nbformat": 4,
 "nbformat_minor": 5
}
